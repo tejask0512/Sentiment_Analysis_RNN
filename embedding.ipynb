{
 "cells": [
  {
   "cell_type": "code",
   "execution_count": 1,
   "metadata": {},
   "outputs": [],
   "source": [
    "from tensorflow.keras.preprocessing.text import one_hot"
   ]
  },
  {
   "cell_type": "code",
   "execution_count": 2,
   "metadata": {},
   "outputs": [],
   "source": [
    "### sentences\n",
    "sent=[  'the glass of milk',\n",
    "     'the glass of juice',\n",
    "     'the cup of tea',\n",
    "    'I am a good boy',\n",
    "     'I am a good developer',\n",
    "     'understand the meaning of words',\n",
    "     'your videos are good',]"
   ]
  },
  {
   "cell_type": "code",
   "execution_count": 3,
   "metadata": {},
   "outputs": [
    {
     "data": {
      "text/plain": [
       "['the glass of milk',\n",
       " 'the glass of juice',\n",
       " 'the cup of tea',\n",
       " 'I am a good boy',\n",
       " 'I am a good developer',\n",
       " 'understand the meaning of words',\n",
       " 'your videos are good']"
      ]
     },
     "execution_count": 3,
     "metadata": {},
     "output_type": "execute_result"
    }
   ],
   "source": [
    "sent"
   ]
  },
  {
   "cell_type": "code",
   "execution_count": 4,
   "metadata": {},
   "outputs": [],
   "source": [
    "## Define the vocabulary size\n",
    "voc_size=10000"
   ]
  },
  {
   "cell_type": "code",
   "execution_count": 5,
   "metadata": {},
   "outputs": [
    {
     "data": {
      "text/plain": [
       "['the glass of milk',\n",
       " 'the glass of juice',\n",
       " 'the cup of tea',\n",
       " 'I am a good boy',\n",
       " 'I am a good developer',\n",
       " 'understand the meaning of words',\n",
       " 'your videos are good']"
      ]
     },
     "execution_count": 5,
     "metadata": {},
     "output_type": "execute_result"
    }
   ],
   "source": [
    "sent"
   ]
  },
  {
   "cell_type": "code",
   "execution_count": 6,
   "metadata": {},
   "outputs": [
    {
     "data": {
      "text/plain": [
       "[[5890, 4658, 2254, 4986],\n",
       " [5890, 4658, 2254, 4974],\n",
       " [5890, 9052, 2254, 6971],\n",
       " [1924, 6310, 1602, 2086, 2518],\n",
       " [1924, 6310, 1602, 2086, 4498],\n",
       " [956, 5890, 1772, 2254, 4267],\n",
       " [5339, 9992, 3561, 2086]]"
      ]
     },
     "execution_count": 6,
     "metadata": {},
     "output_type": "execute_result"
    }
   ],
   "source": [
    "### One Hot Representation\n",
    "one_hot_repr=[one_hot(words,voc_size)for words in sent]\n",
    "one_hot_repr"
   ]
  },
  {
   "cell_type": "code",
   "execution_count": 7,
   "metadata": {},
   "outputs": [],
   "source": [
    "## word Embedding Representation\n",
    "\n",
    "from tensorflow.keras.layers import Embedding\n",
    "#from tensorflow.keras.processing.sequence import pad_sequences\n",
    "from tensorflow.keras.utils import pad_sequences\n",
    "from tensorflow.keras.models import Sequential"
   ]
  },
  {
   "cell_type": "code",
   "execution_count": 8,
   "metadata": {},
   "outputs": [],
   "source": [
    "import numpy as np"
   ]
  },
  {
   "cell_type": "code",
   "execution_count": 9,
   "metadata": {},
   "outputs": [
    {
     "name": "stdout",
     "output_type": "stream",
     "text": [
      "[[   0    0    0    0 5890 4658 2254 4986]\n",
      " [   0    0    0    0 5890 4658 2254 4974]\n",
      " [   0    0    0    0 5890 9052 2254 6971]\n",
      " [   0    0    0 1924 6310 1602 2086 2518]\n",
      " [   0    0    0 1924 6310 1602 2086 4498]\n",
      " [   0    0    0  956 5890 1772 2254 4267]\n",
      " [   0    0    0    0 5339 9992 3561 2086]]\n"
     ]
    }
   ],
   "source": [
    "sent_length=8\n",
    "embedded_docs=pad_sequences(one_hot_repr,padding='pre',maxlen=sent_length)\n",
    "print(embedded_docs)"
   ]
  },
  {
   "cell_type": "code",
   "execution_count": 10,
   "metadata": {},
   "outputs": [],
   "source": [
    "## feature representation\n",
    "dim=10"
   ]
  },
  {
   "cell_type": "code",
   "execution_count": null,
   "metadata": {},
   "outputs": [],
   "source": [
    "from keras.models import Sequential\n",
    "from keras.layers import Input, Embedding, SimpleRNN, Dense\n"
   ]
  },
  {
   "cell_type": "code",
   "execution_count": 16,
   "metadata": {},
   "outputs": [
    {
     "name": "stderr",
     "output_type": "stream",
     "text": [
      "c:\\Users\\tejas\\AI-ML Gen AI Projects\\mlenv\\lib\\site-packages\\keras\\src\\layers\\core\\embedding.py:93: UserWarning: Do not pass an `input_shape`/`input_dim` argument to a layer. When using Sequential models, prefer using an `Input(shape)` object as the first layer in the model instead.\n",
      "  super().__init__(**kwargs)\n"
     ]
    }
   ],
   "source": [
    "model=Sequential()\n",
    "model.add(Embedding(voc_size,dim,input_shape=(sent_length,)))\n",
    "model.compile('adam','mse')"
   ]
  },
  {
   "cell_type": "code",
   "execution_count": 17,
   "metadata": {},
   "outputs": [
    {
     "data": {
      "text/html": [
       "<pre style=\"white-space:pre;overflow-x:auto;line-height:normal;font-family:Menlo,'DejaVu Sans Mono',consolas,'Courier New',monospace\"><span style=\"font-weight: bold\">Model: \"sequential_3\"</span>\n",
       "</pre>\n"
      ],
      "text/plain": [
       "\u001b[1mModel: \"sequential_3\"\u001b[0m\n"
      ]
     },
     "metadata": {},
     "output_type": "display_data"
    },
    {
     "data": {
      "text/html": [
       "<pre style=\"white-space:pre;overflow-x:auto;line-height:normal;font-family:Menlo,'DejaVu Sans Mono',consolas,'Courier New',monospace\">┏━━━━━━━━━━━━━━━━━━━━━━━━━━━━━━━━━┳━━━━━━━━━━━━━━━━━━━━━━━━┳━━━━━━━━━━━━━━━┓\n",
       "┃<span style=\"font-weight: bold\"> Layer (type)                    </span>┃<span style=\"font-weight: bold\"> Output Shape           </span>┃<span style=\"font-weight: bold\">       Param # </span>┃\n",
       "┡━━━━━━━━━━━━━━━━━━━━━━━━━━━━━━━━━╇━━━━━━━━━━━━━━━━━━━━━━━━╇━━━━━━━━━━━━━━━┩\n",
       "│ embedding_2 (<span style=\"color: #0087ff; text-decoration-color: #0087ff\">Embedding</span>)         │ (<span style=\"color: #00d7ff; text-decoration-color: #00d7ff\">None</span>, <span style=\"color: #00af00; text-decoration-color: #00af00\">8</span>, <span style=\"color: #00af00; text-decoration-color: #00af00\">10</span>)          │       <span style=\"color: #00af00; text-decoration-color: #00af00\">100,000</span> │\n",
       "└─────────────────────────────────┴────────────────────────┴───────────────┘\n",
       "</pre>\n"
      ],
      "text/plain": [
       "┏━━━━━━━━━━━━━━━━━━━━━━━━━━━━━━━━━┳━━━━━━━━━━━━━━━━━━━━━━━━┳━━━━━━━━━━━━━━━┓\n",
       "┃\u001b[1m \u001b[0m\u001b[1mLayer (type)                   \u001b[0m\u001b[1m \u001b[0m┃\u001b[1m \u001b[0m\u001b[1mOutput Shape          \u001b[0m\u001b[1m \u001b[0m┃\u001b[1m \u001b[0m\u001b[1m      Param #\u001b[0m\u001b[1m \u001b[0m┃\n",
       "┡━━━━━━━━━━━━━━━━━━━━━━━━━━━━━━━━━╇━━━━━━━━━━━━━━━━━━━━━━━━╇━━━━━━━━━━━━━━━┩\n",
       "│ embedding_2 (\u001b[38;5;33mEmbedding\u001b[0m)         │ (\u001b[38;5;45mNone\u001b[0m, \u001b[38;5;34m8\u001b[0m, \u001b[38;5;34m10\u001b[0m)          │       \u001b[38;5;34m100,000\u001b[0m │\n",
       "└─────────────────────────────────┴────────────────────────┴───────────────┘\n"
      ]
     },
     "metadata": {},
     "output_type": "display_data"
    },
    {
     "data": {
      "text/html": [
       "<pre style=\"white-space:pre;overflow-x:auto;line-height:normal;font-family:Menlo,'DejaVu Sans Mono',consolas,'Courier New',monospace\"><span style=\"font-weight: bold\"> Total params: </span><span style=\"color: #00af00; text-decoration-color: #00af00\">100,000</span> (390.62 KB)\n",
       "</pre>\n"
      ],
      "text/plain": [
       "\u001b[1m Total params: \u001b[0m\u001b[38;5;34m100,000\u001b[0m (390.62 KB)\n"
      ]
     },
     "metadata": {},
     "output_type": "display_data"
    },
    {
     "data": {
      "text/html": [
       "<pre style=\"white-space:pre;overflow-x:auto;line-height:normal;font-family:Menlo,'DejaVu Sans Mono',consolas,'Courier New',monospace\"><span style=\"font-weight: bold\"> Trainable params: </span><span style=\"color: #00af00; text-decoration-color: #00af00\">100,000</span> (390.62 KB)\n",
       "</pre>\n"
      ],
      "text/plain": [
       "\u001b[1m Trainable params: \u001b[0m\u001b[38;5;34m100,000\u001b[0m (390.62 KB)\n"
      ]
     },
     "metadata": {},
     "output_type": "display_data"
    },
    {
     "data": {
      "text/html": [
       "<pre style=\"white-space:pre;overflow-x:auto;line-height:normal;font-family:Menlo,'DejaVu Sans Mono',consolas,'Courier New',monospace\"><span style=\"font-weight: bold\"> Non-trainable params: </span><span style=\"color: #00af00; text-decoration-color: #00af00\">0</span> (0.00 B)\n",
       "</pre>\n"
      ],
      "text/plain": [
       "\u001b[1m Non-trainable params: \u001b[0m\u001b[38;5;34m0\u001b[0m (0.00 B)\n"
      ]
     },
     "metadata": {},
     "output_type": "display_data"
    }
   ],
   "source": [
    "model.summary()"
   ]
  },
  {
   "cell_type": "code",
   "execution_count": 18,
   "metadata": {},
   "outputs": [
    {
     "name": "stdout",
     "output_type": "stream",
     "text": [
      "\u001b[1m1/1\u001b[0m \u001b[32m━━━━━━━━━━━━━━━━━━━━\u001b[0m\u001b[37m\u001b[0m \u001b[1m0s\u001b[0m 187ms/step\n"
     ]
    },
    {
     "data": {
      "text/plain": [
       "array([[[ 0.02332279,  0.01996796,  0.01072813, -0.02008796,\n",
       "         -0.04471632, -0.00507919, -0.02449284, -0.04278004,\n",
       "         -0.0372875 , -0.0174192 ],\n",
       "        [ 0.02332279,  0.01996796,  0.01072813, -0.02008796,\n",
       "         -0.04471632, -0.00507919, -0.02449284, -0.04278004,\n",
       "         -0.0372875 , -0.0174192 ],\n",
       "        [ 0.02332279,  0.01996796,  0.01072813, -0.02008796,\n",
       "         -0.04471632, -0.00507919, -0.02449284, -0.04278004,\n",
       "         -0.0372875 , -0.0174192 ],\n",
       "        [ 0.02332279,  0.01996796,  0.01072813, -0.02008796,\n",
       "         -0.04471632, -0.00507919, -0.02449284, -0.04278004,\n",
       "         -0.0372875 , -0.0174192 ],\n",
       "        [-0.00079757,  0.02706709, -0.02243725, -0.0295439 ,\n",
       "         -0.00487105,  0.0022723 , -0.01789358,  0.03610686,\n",
       "         -0.0231799 ,  0.02613468],\n",
       "        [ 0.02086471, -0.02606349,  0.00850704,  0.00163534,\n",
       "          0.03736398,  0.03916268, -0.03709813,  0.02769336,\n",
       "         -0.04687318, -0.04062365],\n",
       "        [ 0.0360433 ,  0.04686253, -0.02184384, -0.03355058,\n",
       "          0.01822803, -0.04150604,  0.03439801, -0.02559365,\n",
       "         -0.00464804,  0.02448383],\n",
       "        [ 0.00717472, -0.03574177,  0.04822394,  0.04325583,\n",
       "         -0.03489666, -0.03625204, -0.03022764, -0.0470894 ,\n",
       "          0.01572169, -0.01062794]],\n",
       "\n",
       "       [[ 0.02332279,  0.01996796,  0.01072813, -0.02008796,\n",
       "         -0.04471632, -0.00507919, -0.02449284, -0.04278004,\n",
       "         -0.0372875 , -0.0174192 ],\n",
       "        [ 0.02332279,  0.01996796,  0.01072813, -0.02008796,\n",
       "         -0.04471632, -0.00507919, -0.02449284, -0.04278004,\n",
       "         -0.0372875 , -0.0174192 ],\n",
       "        [ 0.02332279,  0.01996796,  0.01072813, -0.02008796,\n",
       "         -0.04471632, -0.00507919, -0.02449284, -0.04278004,\n",
       "         -0.0372875 , -0.0174192 ],\n",
       "        [ 0.02332279,  0.01996796,  0.01072813, -0.02008796,\n",
       "         -0.04471632, -0.00507919, -0.02449284, -0.04278004,\n",
       "         -0.0372875 , -0.0174192 ],\n",
       "        [-0.00079757,  0.02706709, -0.02243725, -0.0295439 ,\n",
       "         -0.00487105,  0.0022723 , -0.01789358,  0.03610686,\n",
       "         -0.0231799 ,  0.02613468],\n",
       "        [ 0.02086471, -0.02606349,  0.00850704,  0.00163534,\n",
       "          0.03736398,  0.03916268, -0.03709813,  0.02769336,\n",
       "         -0.04687318, -0.04062365],\n",
       "        [ 0.0360433 ,  0.04686253, -0.02184384, -0.03355058,\n",
       "          0.01822803, -0.04150604,  0.03439801, -0.02559365,\n",
       "         -0.00464804,  0.02448383],\n",
       "        [-0.04000843, -0.0418566 , -0.0426077 , -0.0410477 ,\n",
       "          0.02593951,  0.00234275, -0.0062737 , -0.00701154,\n",
       "         -0.01166738,  0.01847472]],\n",
       "\n",
       "       [[ 0.02332279,  0.01996796,  0.01072813, -0.02008796,\n",
       "         -0.04471632, -0.00507919, -0.02449284, -0.04278004,\n",
       "         -0.0372875 , -0.0174192 ],\n",
       "        [ 0.02332279,  0.01996796,  0.01072813, -0.02008796,\n",
       "         -0.04471632, -0.00507919, -0.02449284, -0.04278004,\n",
       "         -0.0372875 , -0.0174192 ],\n",
       "        [ 0.02332279,  0.01996796,  0.01072813, -0.02008796,\n",
       "         -0.04471632, -0.00507919, -0.02449284, -0.04278004,\n",
       "         -0.0372875 , -0.0174192 ],\n",
       "        [ 0.02332279,  0.01996796,  0.01072813, -0.02008796,\n",
       "         -0.04471632, -0.00507919, -0.02449284, -0.04278004,\n",
       "         -0.0372875 , -0.0174192 ],\n",
       "        [-0.00079757,  0.02706709, -0.02243725, -0.0295439 ,\n",
       "         -0.00487105,  0.0022723 , -0.01789358,  0.03610686,\n",
       "         -0.0231799 ,  0.02613468],\n",
       "        [ 0.0090742 , -0.03561139,  0.03767789,  0.02802512,\n",
       "          0.03322444, -0.0196227 , -0.04900764,  0.01263218,\n",
       "          0.03220019,  0.01549346],\n",
       "        [ 0.0360433 ,  0.04686253, -0.02184384, -0.03355058,\n",
       "          0.01822803, -0.04150604,  0.03439801, -0.02559365,\n",
       "         -0.00464804,  0.02448383],\n",
       "        [-0.03519622, -0.04557532, -0.01504079, -0.02749064,\n",
       "          0.04392048,  0.01197914,  0.01814238, -0.0259455 ,\n",
       "         -0.01363431, -0.04484953]],\n",
       "\n",
       "       [[ 0.02332279,  0.01996796,  0.01072813, -0.02008796,\n",
       "         -0.04471632, -0.00507919, -0.02449284, -0.04278004,\n",
       "         -0.0372875 , -0.0174192 ],\n",
       "        [ 0.02332279,  0.01996796,  0.01072813, -0.02008796,\n",
       "         -0.04471632, -0.00507919, -0.02449284, -0.04278004,\n",
       "         -0.0372875 , -0.0174192 ],\n",
       "        [ 0.02332279,  0.01996796,  0.01072813, -0.02008796,\n",
       "         -0.04471632, -0.00507919, -0.02449284, -0.04278004,\n",
       "         -0.0372875 , -0.0174192 ],\n",
       "        [ 0.02997145, -0.01819944,  0.03742378, -0.00668225,\n",
       "          0.04092983,  0.00654503,  0.04551813,  0.01817217,\n",
       "         -0.04837545,  0.02377807],\n",
       "        [ 0.00081663, -0.03115308,  0.04590472, -0.0008083 ,\n",
       "          0.00835515,  0.00952665, -0.03466268,  0.0157257 ,\n",
       "         -0.02916392, -0.04824952],\n",
       "        [ 0.02975171, -0.01104961, -0.01433072, -0.00501638,\n",
       "         -0.04641381, -0.02577144,  0.04025424, -0.02227475,\n",
       "         -0.04199796,  0.02216509],\n",
       "        [ 0.04856724, -0.01032306,  0.00768337,  0.03566146,\n",
       "         -0.01944675,  0.00935323, -0.00876343,  0.01858674,\n",
       "         -0.04746911, -0.02877505],\n",
       "        [-0.02021507,  0.02702541,  0.04889946, -0.02145416,\n",
       "         -0.03855958, -0.03259917,  0.03420023, -0.0455231 ,\n",
       "         -0.00389063,  0.02089398]],\n",
       "\n",
       "       [[ 0.02332279,  0.01996796,  0.01072813, -0.02008796,\n",
       "         -0.04471632, -0.00507919, -0.02449284, -0.04278004,\n",
       "         -0.0372875 , -0.0174192 ],\n",
       "        [ 0.02332279,  0.01996796,  0.01072813, -0.02008796,\n",
       "         -0.04471632, -0.00507919, -0.02449284, -0.04278004,\n",
       "         -0.0372875 , -0.0174192 ],\n",
       "        [ 0.02332279,  0.01996796,  0.01072813, -0.02008796,\n",
       "         -0.04471632, -0.00507919, -0.02449284, -0.04278004,\n",
       "         -0.0372875 , -0.0174192 ],\n",
       "        [ 0.02997145, -0.01819944,  0.03742378, -0.00668225,\n",
       "          0.04092983,  0.00654503,  0.04551813,  0.01817217,\n",
       "         -0.04837545,  0.02377807],\n",
       "        [ 0.00081663, -0.03115308,  0.04590472, -0.0008083 ,\n",
       "          0.00835515,  0.00952665, -0.03466268,  0.0157257 ,\n",
       "         -0.02916392, -0.04824952],\n",
       "        [ 0.02975171, -0.01104961, -0.01433072, -0.00501638,\n",
       "         -0.04641381, -0.02577144,  0.04025424, -0.02227475,\n",
       "         -0.04199796,  0.02216509],\n",
       "        [ 0.04856724, -0.01032306,  0.00768337,  0.03566146,\n",
       "         -0.01944675,  0.00935323, -0.00876343,  0.01858674,\n",
       "         -0.04746911, -0.02877505],\n",
       "        [-0.04783168, -0.04728836, -0.02574908,  0.00597775,\n",
       "          0.00806355,  0.02890214,  0.04874319,  0.01048764,\n",
       "         -0.01799573, -0.04215785]],\n",
       "\n",
       "       [[ 0.02332279,  0.01996796,  0.01072813, -0.02008796,\n",
       "         -0.04471632, -0.00507919, -0.02449284, -0.04278004,\n",
       "         -0.0372875 , -0.0174192 ],\n",
       "        [ 0.02332279,  0.01996796,  0.01072813, -0.02008796,\n",
       "         -0.04471632, -0.00507919, -0.02449284, -0.04278004,\n",
       "         -0.0372875 , -0.0174192 ],\n",
       "        [ 0.02332279,  0.01996796,  0.01072813, -0.02008796,\n",
       "         -0.04471632, -0.00507919, -0.02449284, -0.04278004,\n",
       "         -0.0372875 , -0.0174192 ],\n",
       "        [ 0.01046265, -0.03445894, -0.04539298,  0.03563415,\n",
       "         -0.04217414,  0.04143419,  0.01206304, -0.04444408,\n",
       "          0.03857317,  0.03320576],\n",
       "        [-0.00079757,  0.02706709, -0.02243725, -0.0295439 ,\n",
       "         -0.00487105,  0.0022723 , -0.01789358,  0.03610686,\n",
       "         -0.0231799 ,  0.02613468],\n",
       "        [-0.02644941, -0.02314135,  0.04388011,  0.02278397,\n",
       "         -0.01416075,  0.04470764,  0.02426596,  0.02602996,\n",
       "          0.03480444, -0.01753403],\n",
       "        [ 0.0360433 ,  0.04686253, -0.02184384, -0.03355058,\n",
       "          0.01822803, -0.04150604,  0.03439801, -0.02559365,\n",
       "         -0.00464804,  0.02448383],\n",
       "        [ 0.03588636, -0.02287222, -0.01344693,  0.00575299,\n",
       "          0.0106086 ,  0.04744006,  0.04536274, -0.04313108,\n",
       "         -0.04549084,  0.01422021]],\n",
       "\n",
       "       [[ 0.02332279,  0.01996796,  0.01072813, -0.02008796,\n",
       "         -0.04471632, -0.00507919, -0.02449284, -0.04278004,\n",
       "         -0.0372875 , -0.0174192 ],\n",
       "        [ 0.02332279,  0.01996796,  0.01072813, -0.02008796,\n",
       "         -0.04471632, -0.00507919, -0.02449284, -0.04278004,\n",
       "         -0.0372875 , -0.0174192 ],\n",
       "        [ 0.02332279,  0.01996796,  0.01072813, -0.02008796,\n",
       "         -0.04471632, -0.00507919, -0.02449284, -0.04278004,\n",
       "         -0.0372875 , -0.0174192 ],\n",
       "        [ 0.02332279,  0.01996796,  0.01072813, -0.02008796,\n",
       "         -0.04471632, -0.00507919, -0.02449284, -0.04278004,\n",
       "         -0.0372875 , -0.0174192 ],\n",
       "        [ 0.02734634, -0.03592477,  0.0372952 , -0.04913975,\n",
       "         -0.03951293, -0.01272779, -0.02432705,  0.03400148,\n",
       "         -0.00820423, -0.00749151],\n",
       "        [-0.00758188, -0.02236482,  0.03696058,  0.0347587 ,\n",
       "          0.03678292, -0.00080215,  0.01096148, -0.00617238,\n",
       "         -0.04325775,  0.02788517],\n",
       "        [ 0.02817932, -0.03197434,  0.04673839, -0.00106945,\n",
       "          0.01852768,  0.00613735,  0.00380237, -0.04448576,\n",
       "          0.02660965, -0.01183475],\n",
       "        [ 0.04856724, -0.01032306,  0.00768337,  0.03566146,\n",
       "         -0.01944675,  0.00935323, -0.00876343,  0.01858674,\n",
       "         -0.04746911, -0.02877505]]], dtype=float32)"
      ]
     },
     "execution_count": 18,
     "metadata": {},
     "output_type": "execute_result"
    }
   ],
   "source": [
    "model.predict(embedded_docs)"
   ]
  },
  {
   "cell_type": "code",
   "execution_count": 19,
   "metadata": {},
   "outputs": [
    {
     "data": {
      "text/plain": [
       "array([   0,    0,    0,    0, 5890, 4658, 2254, 4986], dtype=int32)"
      ]
     },
     "execution_count": 19,
     "metadata": {},
     "output_type": "execute_result"
    }
   ],
   "source": [
    "embedded_docs[0]"
   ]
  },
  {
   "cell_type": "code",
   "execution_count": 20,
   "metadata": {},
   "outputs": [
    {
     "ename": "ValueError",
     "evalue": "Exception encountered when calling Sequential.call().\n\n\u001b[1mCannot take the length of shape with unknown rank.\u001b[0m\n\nArguments received by Sequential.call():\n  • inputs=tf.Tensor(shape=<unknown>, dtype=int32)\n  • training=False\n  • mask=None",
     "output_type": "error",
     "traceback": [
      "\u001b[1;31m---------------------------------------------------------------------------\u001b[0m",
      "\u001b[1;31mValueError\u001b[0m                                Traceback (most recent call last)",
      "Cell \u001b[1;32mIn[20], line 1\u001b[0m\n\u001b[1;32m----> 1\u001b[0m \u001b[43mmodel\u001b[49m\u001b[38;5;241;43m.\u001b[39;49m\u001b[43mpredict\u001b[49m\u001b[43m(\u001b[49m\u001b[43membedded_docs\u001b[49m\u001b[43m[\u001b[49m\u001b[38;5;241;43m0\u001b[39;49m\u001b[43m]\u001b[49m\u001b[43m)\u001b[49m\n",
      "File \u001b[1;32mc:\\Users\\tejas\\AI-ML Gen AI Projects\\mlenv\\lib\\site-packages\\keras\\src\\utils\\traceback_utils.py:122\u001b[0m, in \u001b[0;36mfilter_traceback.<locals>.error_handler\u001b[1;34m(*args, **kwargs)\u001b[0m\n\u001b[0;32m    119\u001b[0m     filtered_tb \u001b[38;5;241m=\u001b[39m _process_traceback_frames(e\u001b[38;5;241m.\u001b[39m__traceback__)\n\u001b[0;32m    120\u001b[0m     \u001b[38;5;66;03m# To get the full stack trace, call:\u001b[39;00m\n\u001b[0;32m    121\u001b[0m     \u001b[38;5;66;03m# `keras.config.disable_traceback_filtering()`\u001b[39;00m\n\u001b[1;32m--> 122\u001b[0m     \u001b[38;5;28;01mraise\u001b[39;00m e\u001b[38;5;241m.\u001b[39mwith_traceback(filtered_tb) \u001b[38;5;28;01mfrom\u001b[39;00m\u001b[38;5;250m \u001b[39m\u001b[38;5;28;01mNone\u001b[39;00m\n\u001b[0;32m    123\u001b[0m \u001b[38;5;28;01mfinally\u001b[39;00m:\n\u001b[0;32m    124\u001b[0m     \u001b[38;5;28;01mdel\u001b[39;00m filtered_tb\n",
      "File \u001b[1;32mc:\\Users\\tejas\\AI-ML Gen AI Projects\\mlenv\\lib\\site-packages\\keras\\src\\utils\\traceback_utils.py:122\u001b[0m, in \u001b[0;36mfilter_traceback.<locals>.error_handler\u001b[1;34m(*args, **kwargs)\u001b[0m\n\u001b[0;32m    119\u001b[0m     filtered_tb \u001b[38;5;241m=\u001b[39m _process_traceback_frames(e\u001b[38;5;241m.\u001b[39m__traceback__)\n\u001b[0;32m    120\u001b[0m     \u001b[38;5;66;03m# To get the full stack trace, call:\u001b[39;00m\n\u001b[0;32m    121\u001b[0m     \u001b[38;5;66;03m# `keras.config.disable_traceback_filtering()`\u001b[39;00m\n\u001b[1;32m--> 122\u001b[0m     \u001b[38;5;28;01mraise\u001b[39;00m e\u001b[38;5;241m.\u001b[39mwith_traceback(filtered_tb) \u001b[38;5;28;01mfrom\u001b[39;00m\u001b[38;5;250m \u001b[39m\u001b[38;5;28;01mNone\u001b[39;00m\n\u001b[0;32m    123\u001b[0m \u001b[38;5;28;01mfinally\u001b[39;00m:\n\u001b[0;32m    124\u001b[0m     \u001b[38;5;28;01mdel\u001b[39;00m filtered_tb\n",
      "\u001b[1;31mValueError\u001b[0m: Exception encountered when calling Sequential.call().\n\n\u001b[1mCannot take the length of shape with unknown rank.\u001b[0m\n\nArguments received by Sequential.call():\n  • inputs=tf.Tensor(shape=<unknown>, dtype=int32)\n  • training=False\n  • mask=None"
     ]
    }
   ],
   "source": [
    "model.predict(embedded_docs[0])"
   ]
  },
  {
   "cell_type": "code",
   "execution_count": null,
   "metadata": {},
   "outputs": [],
   "source": []
  }
 ],
 "metadata": {
  "kernelspec": {
   "display_name": "Python 3",
   "language": "python",
   "name": "python3"
  },
  "language_info": {
   "codemirror_mode": {
    "name": "ipython",
    "version": 3
   },
   "file_extension": ".py",
   "mimetype": "text/x-python",
   "name": "python",
   "nbconvert_exporter": "python",
   "pygments_lexer": "ipython3",
   "version": "3.10.0"
  }
 },
 "nbformat": 4,
 "nbformat_minor": 2
}
